{
 "cells": [
  {
   "cell_type": "code",
   "execution_count": 22,
   "id": "f9175f4a",
   "metadata": {},
   "outputs": [
    {
     "name": "stdout",
     "output_type": "stream",
     "text": [
      "  Animal Name Category  Weight  Height       Diet           Habitat  \\\n",
      "0        Lion   Mammal   190.0     120  Carnivore           Savanna   \n",
      "1    Elephant   Mammal  6000.0     300  Herbivore  Forest/Grassland   \n",
      "2       Tiger   Mammal   220.0     110  Carnivore            Forest   \n",
      "3     Giraffe   Mammal   800.0     500  Herbivore           Savanna   \n",
      "4       Zebra   Mammal   350.0     150  Herbivore           Savanna   \n",
      "\n",
      "          Color  Speed Habitat Type  \n",
      "0        Yellow   80.0    Grassland  \n",
      "1          Grey   25.0       Forest  \n",
      "2        Orange   60.0       Forest  \n",
      "3  Yellow/Spots   60.0    Grassland  \n",
      "4   Black/White   65.0    Grassland  \n",
      "Model Accuracy: 0.44\n",
      "Classification Report:\n",
      "               precision    recall  f1-score   support\n",
      "\n",
      "           0       1.00      1.00      1.00         1\n",
      "           1       0.67      0.29      0.40         7\n",
      "           2       0.25      0.50      0.33         2\n",
      "           3       0.00      0.00      0.00         1\n",
      "           4       0.40      0.50      0.44         4\n",
      "           5       0.50      1.00      0.67         1\n",
      "\n",
      "    accuracy                           0.44        16\n",
      "   macro avg       0.47      0.55      0.47        16\n",
      "weighted avg       0.52      0.44      0.43        16\n",
      "\n"
     ]
    },
    {
     "data": {
      "image/png": "[encoded data removed]",
      "text/plain": [
       "<Figure size 720x432 with 1 Axes>"
      ]
     },
     "metadata": {
      "needs_background": "light"
     },
     "output_type": "display_data"
    },
    {
     "data": {
      "text/plain": [
       "<Figure size 576x432 with 0 Axes>"
      ]
     },
     "metadata": {},
     "output_type": "display_data"
    },
    {
     "data": {
      "image/png": "[encoded data removed]",
      "text/plain": [
       "<Figure size 432x288 with 2 Axes>"
      ]
     },
     "metadata": {
      "needs_background": "light"
     },
     "output_type": "display_data"
    }
   ],
   "source": [
    "import pandas as pd\n",
    "from sklearn.model_selection import train_test_split\n",
    "from sklearn.preprocessing import LabelEncoder\n",
    "from sklearn.tree import DecisionTreeClassifier, plot_tree\n",
    "import matplotlib.pyplot as plt\n",
    "import seaborn as sns\n",
    "from sklearn.metrics import confusion_matrix, ConfusionMatrixDisplay,classification_report\n",
    "\n",
    "# Load dataset from CSV file\n",
    "df = pd.read_csv('animal.csv')\n",
    "\n",
    "# Check the first few rows of the dataset\n",
    "print(df.head())\n",
    "\n",
    "# Label Encoding for categorical columns\n",
    "label_encoder = LabelEncoder()\n",
    "\n",
    "# Encode the 'Category', 'Diet', and 'Color' columns\n",
    "df['Category'] = label_encoder.fit_transform(df['Category'])\n",
    "df['Diet'] = label_encoder.fit_transform(df['Diet'])\n",
    "df['Color'] = label_encoder.fit_transform(df['Color'])\n",
    "\n",
    "# Selecting features and target variable\n",
    "X = df[['Weight', 'Height', 'Diet', 'Color']]  # Feature columns\n",
    "y = df['Category']  # Target variable (Animal Category)\n",
    "\n",
    "# Split the data into training and testing sets (70% train, 30% test)\n",
    "X_train, X_test, y_train, y_test = train_test_split(X, y, test_size=0.3, random_state=42)\n",
    "\n",
    "# Create a Decision Tree Classifier and train it\n",
    "clf = DecisionTreeClassifier(random_state=42)\n",
    "clf.fit(X_train, y_train)\n",
    "\n",
    "# Check the accuracy of the model\n",
    "accuracy = clf.score(X_test, y_test)\n",
    "print(f\"Model Accuracy: {accuracy:.2f}\")\n",
    "classification_report=classification_report(y_pred,y_test)\n",
    "print(\"Classification Report:\\n\",classification_report)\n",
    "\n",
    "# Bar plot for the distribution of true labels in y_test\n",
    "plt.figure(figsize=(10, 6))\n",
    "sns.countplot(x=y_test, palette='coolwarm',edgecolor='black')\n",
    "plt.title('True Class Distribution (y_test)')\n",
    "plt.xlabel('Animal Category')\n",
    "plt.ylabel('Count')\n",
    "plt.xticks(rotation=45)\n",
    "plt.show()\n",
    "\n",
    "\n",
    "# Predict the labels on the test data\n",
    "y_pred = clf.predict(X_test)\n",
    "\n",
    "# Compute the confusion matrix\n",
    "cm = confusion_matrix(y_test, y_pred)\n",
    "\n",
    "# Get the unique classes from y_test (use this as labels)\n",
    "unique_classes = sorted(set(y_test))\n",
    "\n",
    "# Display the confusion matrix\n",
    "plt.figure(figsize=(8, 6))\n",
    "ConfusionMatrixDisplay(confusion_matrix=cm, display_labels=unique_classes).plot(cmap='Blues')\n",
    "plt.title('Confusion Matrix')\n",
    "plt.show()\n",
    "\n"
   ]
  },
  {
   "cell_type": "code",
   "execution_count": null,
   "id": "12c4e2b7",
   "metadata": {},
   "outputs": [],
   "source": []
  }
 ],
 "metadata": {
  "kernelspec": {
   "display_name": "Python 3 (ipykernel)",
   "language": "python",
   "name": "python3"
  },
  "language_info": {
   "codemirror_mode": {
    "name": "ipython",
    "version": 3
   },
   "file_extension": ".py",
   "mimetype": "text/x-python",
   "name": "python",
   "nbconvert_exporter": "python",
   "pygments_lexer": "ipython3",
   "version": "3.9.12"
  }
 },
 "nbformat": 4,
 "nbformat_minor": 5
}
