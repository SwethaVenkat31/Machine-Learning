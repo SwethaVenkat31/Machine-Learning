{
 "cells": [
  {
   "cell_type": "code",
   "execution_count": 1,
   "id": "18f0672e",
   "metadata": {},
   "outputs": [],
   "source": [
    "import re\n",
    "from sklearn.feature_extraction.text import TfidfVectorizer\n",
    "from sklearn.naive_bayes import MultinomialNB\n",
    "from sklearn.model_selection import train_test_split,cross_val_score\n",
    "from sklearn.metrics import accuracy_score,classification_report\n",
    "from sklearn.pipeline import Pipeline\n",
    "import joblib\n",
    "from nltk.corpus import stopwords\n",
    "from nltk.stem.porter import PorterStemmer\n"
   ]
  },
  {
   "cell_type": "code",
   "execution_count": 3,
   "id": "d9ae9eae",
   "metadata": {},
   "outputs": [
    {
     "name": "stderr",
     "output_type": "stream",
     "text": [
      "[nltk_data] Downloading package stopwords to\n",
      "[nltk_data]     C:\\Users\\1mscds49\\AppData\\Roaming\\nltk_data...\n",
      "[nltk_data]   Unzipping corpora\\stopwords.zip.\n"
     ]
    }
   ],
   "source": [
    "# Download  stopwords if not already done\n",
    "import nltk\n",
    "nltk.download('stopwords')\n",
    "emails=[\"Congratulations,you won a free ticket to Bahamces\", \n",
    "        \"Hellow , can we reschedule the meeting for tomorrow?\",\n",
    "        \"Exclusive deal just for you,claim your free iphoine now!\",\n",
    "        \"Dear team,please find the report attached\",\n",
    "        \"Win a $1000 gift card by clicking this link!\",\n",
    "        \"Reminder:Your appointment is scheduled for mondat at 3pm\",\n",
    "        \"Limited time offer!, Get 50% off all products\",\n",
    "         \"Hi Mom, I'll call you later tonight\",\n",
    "        \"Claim your lotter proze now before it expires\",\n",
    "         \"Your account balance is low.Please deposit funds\",\n",
    "         \"Special promotion just for you:By one,yet one free\",\n",
    "         \"Don't forget to submit the assignment before friday\",\n",
    "         \"Urgent!,Update your payment information to avoid suspension\",\n",
    "         \"Hi John,thanks for sending over the documents\",\n",
    "         \"You have been slected for a cash reward claim\"]\n",
    "labels=[1,0,1,0,1,0,1,0,1,0,1,0,1,0,1]\n"
   ]
  },
  {
   "cell_type": "code",
   "execution_count": 4,
   "id": "9db42d5c",
   "metadata": {},
   "outputs": [],
   "source": [
    "def preprocess_text(text):\n",
    "    text=text.lower()                                               # convert to lowercase\n",
    "    text=re.sub(r'[^a_z\\s]','',text)                            # remove special character/numbers\n",
    "    stop_words=set(stopwords.words('English'))  #remove stopwords\n",
    "    text=''.join([word for word in text.split() if word not in stop_words])\n",
    "    # stemming\n",
    "    stemmer=PorterStemmer()\n",
    "    text=''.join([stemmer.stem(word) for word in text.split()])\n",
    "    return text"
   ]
  },
  {
   "cell_type": "code",
   "execution_count": 6,
   "id": "a41c37a9",
   "metadata": {},
   "outputs": [
    {
     "name": "stdout",
     "output_type": "stream",
     "text": [
      "Cross_validation Accuracy:0.27\n",
      "Test Accuracy:0.20\n",
      "\n",
      " Classifier Report:\n",
      "               precision    recall  f1-score   support\n",
      "\n",
      "           0       0.00      0.00      0.00         4\n",
      "           1       0.20      1.00      0.33         1\n",
      "\n",
      "    accuracy                           0.20         5\n",
      "   macro avg       0.10      0.50      0.17         5\n",
      "weighted avg       0.04      0.20      0.07         5\n",
      "\n"
     ]
    },
    {
     "name": "stderr",
     "output_type": "stream",
     "text": [
      "C:\\ProgramData\\Anaconda3\\lib\\site-packages\\sklearn\\metrics\\_classification.py:1318: UndefinedMetricWarning: Precision and F-score are ill-defined and being set to 0.0 in labels with no predicted samples. Use `zero_division` parameter to control this behavior.\n",
      "  _warn_prf(average, modifier, msg_start, len(result))\n",
      "C:\\ProgramData\\Anaconda3\\lib\\site-packages\\sklearn\\metrics\\_classification.py:1318: UndefinedMetricWarning: Precision and F-score are ill-defined and being set to 0.0 in labels with no predicted samples. Use `zero_division` parameter to control this behavior.\n",
      "  _warn_prf(average, modifier, msg_start, len(result))\n",
      "C:\\ProgramData\\Anaconda3\\lib\\site-packages\\sklearn\\metrics\\_classification.py:1318: UndefinedMetricWarning: Precision and F-score are ill-defined and being set to 0.0 in labels with no predicted samples. Use `zero_division` parameter to control this behavior.\n",
      "  _warn_prf(average, modifier, msg_start, len(result))\n"
     ]
    },
    {
     "ename": "AttributeError",
     "evalue": "'Pipeline' object has no attribute 'spam_classifier_model'",
     "output_type": "error",
     "traceback": [
      "\u001b[1;31m---------------------------------------------------------------------------\u001b[0m",
      "\u001b[1;31mAttributeError\u001b[0m                            Traceback (most recent call last)",
      "Input \u001b[1;32mIn [6]\u001b[0m, in \u001b[0;36m<cell line: 12>\u001b[1;34m()\u001b[0m\n\u001b[0;32m     10\u001b[0m \u001b[38;5;28mprint\u001b[39m(\u001b[38;5;124mf\u001b[39m\u001b[38;5;124m\"\u001b[39m\u001b[38;5;124mTest Accuracy:\u001b[39m\u001b[38;5;132;01m{\u001b[39;00maccuracy\u001b[38;5;132;01m:\u001b[39;00m\u001b[38;5;124m.2f\u001b[39m\u001b[38;5;132;01m}\u001b[39;00m\u001b[38;5;124m\"\u001b[39m)\n\u001b[0;32m     11\u001b[0m \u001b[38;5;28mprint\u001b[39m(\u001b[38;5;124m\"\u001b[39m\u001b[38;5;130;01m\\n\u001b[39;00m\u001b[38;5;124m Classifier Report:\u001b[39m\u001b[38;5;130;01m\\n\u001b[39;00m\u001b[38;5;124m\"\u001b[39m,classification_report(y_test,y_pred))\n\u001b[1;32m---> 12\u001b[0m joblib\u001b[38;5;241m.\u001b[39mdump(\u001b[43mpipeline\u001b[49m\u001b[38;5;241;43m.\u001b[39;49m\u001b[43mspam_classifier_model\u001b[49m\u001b[38;5;241m.\u001b[39mpkl)\n\u001b[0;32m     13\u001b[0m \u001b[38;5;28mprint\u001b[39m(\u001b[38;5;124m\"\u001b[39m\u001b[38;5;130;01m\\n\u001b[39;00m\u001b[38;5;124m Model saved as \u001b[39m\u001b[38;5;124m'\u001b[39m\u001b[38;5;124mspam_classifer_model.pkl\u001b[39m\u001b[38;5;124m'\u001b[39m\u001b[38;5;124m \u001b[39m\u001b[38;5;124m\"\u001b[39m)             \n\u001b[0;32m     14\u001b[0m test_email\u001b[38;5;241m=\u001b[39m[\u001b[38;5;124m\"\u001b[39m\u001b[38;5;124mYou are a luck winner! Claim your prize now\u001b[39m\u001b[38;5;124m\"\u001b[39m]\n",
      "\u001b[1;31mAttributeError\u001b[0m: 'Pipeline' object has no attribute 'spam_classifier_model'"
     ]
    }
   ],
   "source": [
    "#preprocess all emails\n",
    "emails=[preprocess_text(email) for email in emails]\n",
    "X_train,X_test,y_train,y_test=train_test_split(emails,labels,test_size=0.3,random_state=42)\n",
    "pipeline=Pipeline([('tfidf',TfidfVectorizer()),('model',MultinomialNB())])\n",
    "pipeline.fit(X_train,y_train)\n",
    "cv_scores=cross_val_score(pipeline,emails,labels,cv=5)\n",
    "print(f\"Cross_validation Accuracy:{ cv_scores.mean():.2f}\")\n",
    "y_pred=pipeline.predict(X_test)\n",
    "accuracy=accuracy_score(y_test,y_pred)\n",
    "print(f\"Test Accuracy:{accuracy:.2f}\")\n",
    "print(\"\\n Classifier Report:\\n\",classification_report(y_test,y_pred))\n",
    "joblib.dump(pipeline.spam_classifier_model.pkl)\n",
    "print(\"\\n Model saved as 'spam_classifer_model.pkl' \")             \n",
    "test_email=[\"You are a luck winner! Claim your prize now\"]\n",
    "test_email_preprocessed=[preprocess_text(email) for email in test_email]\n",
    "prediction=pipeline.predict(test_email_preprocessed)\n",
    "print(\"\\nPRediction for test email(0=Not spam,1=spam):\",prediction[0])   "
   ]
  },
  {
   "cell_type": "code",
   "execution_count": null,
   "id": "a948b53e",
   "metadata": {},
   "outputs": [],
   "source": []
  }
 ],
 "metadata": {
  "kernelspec": {
   "display_name": "Python 3 (ipykernel)",
   "language": "python",
   "name": "python3"
  },
  "language_info": {
   "codemirror_mode": {
    "name": "ipython",
    "version": 3
   },
   "file_extension": ".py",
   "mimetype": "text/x-python",
   "name": "python",
   "nbconvert_exporter": "python",
   "pygments_lexer": "ipython3",
   "version": "3.9.12"
  }
 },
 "nbformat": 4,
 "nbformat_minor": 5
}
