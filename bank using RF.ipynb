{
 "cells": [
  {
   "cell_type": "code",
   "execution_count": 6,
   "id": "71d972ae",
   "metadata": {},
   "outputs": [
    {
     "name": "stdout",
     "output_type": "stream",
     "text": [
      "   TransactionID CustomerID  Age  Gender  TransactionAmount TransactionType  \\\n",
      "0              1       C001   28    Male                250      Withdrawal   \n",
      "1              2       C002   45  Female               1500        Transfer   \n",
      "2              3       C003   34    Male                800         Deposit   \n",
      "3              4       C004   56  Female                300      Withdrawal   \n",
      "4              5       C005   23    Male               2000        Transfer   \n",
      "\n",
      "      Location TimeOfTransaction  IsFraudulent  \n",
      "0     New York             14:05             0  \n",
      "1      Chicago              9:15             1  \n",
      "2  Los Angeles             17:20             0  \n",
      "3       Boston             12:30             0  \n",
      "4     New York             13:45             1  \n",
      "Accuracy: 0.8\n",
      "\n",
      "Classification Report:\n",
      "              precision    recall  f1-score   support\n",
      "\n",
      "           0       0.83      0.91      0.87        11\n",
      "           1       0.67      0.50      0.57         4\n",
      "\n",
      "    accuracy                           0.80        15\n",
      "   macro avg       0.75      0.70      0.72        15\n",
      "weighted avg       0.79      0.80      0.79        15\n",
      "\n"
     ]
    },
    {
     "data": {
      "image/png": "[encoded data removed]",
      "text/plain": [
       "<Figure size 576x432 with 2 Axes>"
      ]
     },
     "metadata": {
      "needs_background": "light"
     },
     "output_type": "display_data"
    }
   ],
   "source": [
    "# Import necessary libraries\n",
    "import pandas as pd\n",
    "from sklearn.model_selection import train_test_split\n",
    "from sklearn.preprocessing import LabelEncoder, StandardScaler\n",
    "from sklearn.ensemble import RandomForestClassifier\n",
    "from sklearn.metrics import accuracy_score, classification_report, confusion_matrix\n",
    "import matplotlib.pyplot as plt\n",
    "import seaborn as sns\n",
    "\n",
    "\n",
    "df=pd.read_csv('bank.csv')\n",
    "print(df.head())\n",
    "\n",
    "\n",
    "# Preprocessing\n",
    "# Encoding categorical variables (Gender, TransactionType, Location)\n",
    "le = LabelEncoder()\n",
    "\n",
    "df['Gender'] = le.fit_transform(df['Gender'])\n",
    "df['TransactionType'] = le.fit_transform(df['TransactionType'])\n",
    "df['Location'] = le.fit_transform(df['Location'])\n",
    "\n",
    "# Splitting the dataset into features (X) and target (y)\n",
    "X = df.drop(['TransactionID', 'CustomerID', 'IsFraudulent'], axis=1)  # Features\n",
    "y = df['IsFraudulent']  # Target\n",
    "\n",
    "# Scaling features (Only numerical data - no categorical data)\n",
    "scaler = StandardScaler()\n",
    "\n",
    "# Only scale the numerical columns\n",
    "X_numerical = X[['Age', 'TransactionAmount']]  # Example of selecting numerical columns\n",
    "X_scaled = scaler.fit_transform(X_numerical)\n",
    "\n",
    "# Now, add the other non-numerical columns that are encoded (Gender, TransactionType, Location)\n",
    "X_scaled = pd.DataFrame(X_scaled, columns=['Age', 'TransactionAmount'])\n",
    "X_scaled['Gender'] = df['Gender']\n",
    "X_scaled['TransactionType'] = df['TransactionType']\n",
    "X_scaled['Location'] = df['Location']\n",
    "\n",
    "# Train-Test Split\n",
    "X_train, X_test, y_train, y_test = train_test_split(X_scaled, y, test_size=0.3, random_state=42)\n",
    "\n",
    "# Random Forest Model\n",
    "model = RandomForestClassifier(random_state=42)\n",
    "model.fit(X_train, y_train)\n",
    "\n",
    "# Predictions\n",
    "y_pred = model.predict(X_test)\n",
    "\n",
    "# Evaluation\n",
    "print(\"Accuracy:\", accuracy_score(y_test, y_pred))\n",
    "print(\"\\nClassification Report:\")\n",
    "print(classification_report(y_test, y_pred))\n",
    "\n",
    "# Confusion Matrix\n",
    "cm = confusion_matrix(y_test, y_pred)\n",
    "plt.figure(figsize=(8, 6))\n",
    "sns.heatmap(cm, annot=True, fmt='d', cmap='Blues', xticklabels=['Not Fraudulent', 'Fraudulent'], yticklabels=['Not Fraudulent', 'Fraudulent'])\n",
    "plt.xlabel('Predicted')\n",
    "plt.ylabel('Actual')\n",
    "plt.title('Confusion Matrix')\n",
    "plt.show()\n",
    "\n"
   ]
  },
  {
   "cell_type": "code",
   "execution_count": null,
   "id": "910b4604",
   "metadata": {},
   "outputs": [],
   "source": []
  }
 ],
 "metadata": {
  "kernelspec": {
   "display_name": "Python 3 (ipykernel)",
   "language": "python",
   "name": "python3"
  },
  "language_info": {
   "codemirror_mode": {
    "name": "ipython",
    "version": 3
   },
   "file_extension": ".py",
   "mimetype": "text/x-python",
   "name": "python",
   "nbconvert_exporter": "python",
   "pygments_lexer": "ipython3",
   "version": "3.9.12"
  }
 },
 "nbformat": 4,
 "nbformat_minor": 5
}
